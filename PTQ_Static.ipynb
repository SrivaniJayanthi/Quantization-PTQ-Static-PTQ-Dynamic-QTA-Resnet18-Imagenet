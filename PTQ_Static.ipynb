{
 "cells": [
  {
   "cell_type": "markdown",
   "metadata": {},
   "source": [
    "### Importing Libraries"
   ]
  },
  {
   "cell_type": "code",
   "execution_count": 2,
   "metadata": {},
   "outputs": [],
   "source": [
    "import torch\n",
    "import torchvision\n",
    "import torchvision.transforms as transforms\n",
    "from torch.utils.data import DataLoader\n",
    "from torchvision.models import resnet18\n",
    "from torch.quantization import prepare, convert, fuse_modules\n",
    "import time\n",
    "import io\n",
    "import matplotlib.pyplot as plt\n",
    "from torch.ao.quantization import move_exported_model_to_eval\n",
    "from torch._export import capture_pre_autograd_graph\n",
    "from torch.ao.quantization.quantize_pt2e import (\n",
    "    prepare_pt2e,\n",
    "    convert_pt2e,\n",
    ")\n",
    "from torch.ao.quantization.quantizer.xnnpack_quantizer import XNNPACKQuantizer\n",
    "from torch.ao.quantization.quantizer.xnnpack_quantizer import get_symmetric_quantization_config\n",
    "\n",
    "# Set up warnings\n",
    "import warnings\n",
    "warnings.filterwarnings(\n",
    "    action='ignore',\n",
    "    category=DeprecationWarning,\n",
    "    module=r'.*'\n",
    ")\n",
    "warnings.filterwarnings(\n",
    "    action='default',\n",
    "    module=r'torch.ao.quantization'\n",
    ") "
   ]
  },
  {
   "cell_type": "markdown",
   "metadata": {},
   "source": [
    "### Load the Pre-trained model and dataset"
   ]
  },
  {
   "cell_type": "code",
   "execution_count": 3,
   "metadata": {},
   "outputs": [
    {
     "name": "stderr",
     "output_type": "stream",
     "text": [
      "/home/mcw/Desktop/Quantization/quant_venv/lib/python3.12/site-packages/torchvision/models/_utils.py:208: UserWarning: The parameter 'pretrained' is deprecated since 0.13 and may be removed in the future, please use 'weights' instead.\n",
      "  warnings.warn(\n",
      "/home/mcw/Desktop/Quantization/quant_venv/lib/python3.12/site-packages/torchvision/models/_utils.py:223: UserWarning: Arguments other than a weight enum or `None` for 'weights' are deprecated since 0.13 and may be removed in the future. The current behavior is equivalent to passing `weights=ResNet18_Weights.IMAGENET1K_V1`. You can also use `weights=ResNet18_Weights.DEFAULT` to get the most up-to-date weights.\n",
      "  warnings.warn(msg)\n"
     ]
    },
    {
     "data": {
      "text/plain": [
       "ResNet(\n",
       "  (conv1): Conv2d(3, 64, kernel_size=(7, 7), stride=(2, 2), padding=(3, 3), bias=False)\n",
       "  (bn1): BatchNorm2d(64, eps=1e-05, momentum=0.1, affine=True, track_running_stats=True)\n",
       "  (relu): ReLU(inplace=True)\n",
       "  (maxpool): MaxPool2d(kernel_size=3, stride=2, padding=1, dilation=1, ceil_mode=False)\n",
       "  (layer1): Sequential(\n",
       "    (0): BasicBlock(\n",
       "      (conv1): Conv2d(64, 64, kernel_size=(3, 3), stride=(1, 1), padding=(1, 1), bias=False)\n",
       "      (bn1): BatchNorm2d(64, eps=1e-05, momentum=0.1, affine=True, track_running_stats=True)\n",
       "      (relu): ReLU(inplace=True)\n",
       "      (conv2): Conv2d(64, 64, kernel_size=(3, 3), stride=(1, 1), padding=(1, 1), bias=False)\n",
       "      (bn2): BatchNorm2d(64, eps=1e-05, momentum=0.1, affine=True, track_running_stats=True)\n",
       "    )\n",
       "    (1): BasicBlock(\n",
       "      (conv1): Conv2d(64, 64, kernel_size=(3, 3), stride=(1, 1), padding=(1, 1), bias=False)\n",
       "      (bn1): BatchNorm2d(64, eps=1e-05, momentum=0.1, affine=True, track_running_stats=True)\n",
       "      (relu): ReLU(inplace=True)\n",
       "      (conv2): Conv2d(64, 64, kernel_size=(3, 3), stride=(1, 1), padding=(1, 1), bias=False)\n",
       "      (bn2): BatchNorm2d(64, eps=1e-05, momentum=0.1, affine=True, track_running_stats=True)\n",
       "    )\n",
       "  )\n",
       "  (layer2): Sequential(\n",
       "    (0): BasicBlock(\n",
       "      (conv1): Conv2d(64, 128, kernel_size=(3, 3), stride=(2, 2), padding=(1, 1), bias=False)\n",
       "      (bn1): BatchNorm2d(128, eps=1e-05, momentum=0.1, affine=True, track_running_stats=True)\n",
       "      (relu): ReLU(inplace=True)\n",
       "      (conv2): Conv2d(128, 128, kernel_size=(3, 3), stride=(1, 1), padding=(1, 1), bias=False)\n",
       "      (bn2): BatchNorm2d(128, eps=1e-05, momentum=0.1, affine=True, track_running_stats=True)\n",
       "      (downsample): Sequential(\n",
       "        (0): Conv2d(64, 128, kernel_size=(1, 1), stride=(2, 2), bias=False)\n",
       "        (1): BatchNorm2d(128, eps=1e-05, momentum=0.1, affine=True, track_running_stats=True)\n",
       "      )\n",
       "    )\n",
       "    (1): BasicBlock(\n",
       "      (conv1): Conv2d(128, 128, kernel_size=(3, 3), stride=(1, 1), padding=(1, 1), bias=False)\n",
       "      (bn1): BatchNorm2d(128, eps=1e-05, momentum=0.1, affine=True, track_running_stats=True)\n",
       "      (relu): ReLU(inplace=True)\n",
       "      (conv2): Conv2d(128, 128, kernel_size=(3, 3), stride=(1, 1), padding=(1, 1), bias=False)\n",
       "      (bn2): BatchNorm2d(128, eps=1e-05, momentum=0.1, affine=True, track_running_stats=True)\n",
       "    )\n",
       "  )\n",
       "  (layer3): Sequential(\n",
       "    (0): BasicBlock(\n",
       "      (conv1): Conv2d(128, 256, kernel_size=(3, 3), stride=(2, 2), padding=(1, 1), bias=False)\n",
       "      (bn1): BatchNorm2d(256, eps=1e-05, momentum=0.1, affine=True, track_running_stats=True)\n",
       "      (relu): ReLU(inplace=True)\n",
       "      (conv2): Conv2d(256, 256, kernel_size=(3, 3), stride=(1, 1), padding=(1, 1), bias=False)\n",
       "      (bn2): BatchNorm2d(256, eps=1e-05, momentum=0.1, affine=True, track_running_stats=True)\n",
       "      (downsample): Sequential(\n",
       "        (0): Conv2d(128, 256, kernel_size=(1, 1), stride=(2, 2), bias=False)\n",
       "        (1): BatchNorm2d(256, eps=1e-05, momentum=0.1, affine=True, track_running_stats=True)\n",
       "      )\n",
       "    )\n",
       "    (1): BasicBlock(\n",
       "      (conv1): Conv2d(256, 256, kernel_size=(3, 3), stride=(1, 1), padding=(1, 1), bias=False)\n",
       "      (bn1): BatchNorm2d(256, eps=1e-05, momentum=0.1, affine=True, track_running_stats=True)\n",
       "      (relu): ReLU(inplace=True)\n",
       "      (conv2): Conv2d(256, 256, kernel_size=(3, 3), stride=(1, 1), padding=(1, 1), bias=False)\n",
       "      (bn2): BatchNorm2d(256, eps=1e-05, momentum=0.1, affine=True, track_running_stats=True)\n",
       "    )\n",
       "  )\n",
       "  (layer4): Sequential(\n",
       "    (0): BasicBlock(\n",
       "      (conv1): Conv2d(256, 512, kernel_size=(3, 3), stride=(2, 2), padding=(1, 1), bias=False)\n",
       "      (bn1): BatchNorm2d(512, eps=1e-05, momentum=0.1, affine=True, track_running_stats=True)\n",
       "      (relu): ReLU(inplace=True)\n",
       "      (conv2): Conv2d(512, 512, kernel_size=(3, 3), stride=(1, 1), padding=(1, 1), bias=False)\n",
       "      (bn2): BatchNorm2d(512, eps=1e-05, momentum=0.1, affine=True, track_running_stats=True)\n",
       "      (downsample): Sequential(\n",
       "        (0): Conv2d(256, 512, kernel_size=(1, 1), stride=(2, 2), bias=False)\n",
       "        (1): BatchNorm2d(512, eps=1e-05, momentum=0.1, affine=True, track_running_stats=True)\n",
       "      )\n",
       "    )\n",
       "    (1): BasicBlock(\n",
       "      (conv1): Conv2d(512, 512, kernel_size=(3, 3), stride=(1, 1), padding=(1, 1), bias=False)\n",
       "      (bn1): BatchNorm2d(512, eps=1e-05, momentum=0.1, affine=True, track_running_stats=True)\n",
       "      (relu): ReLU(inplace=True)\n",
       "      (conv2): Conv2d(512, 512, kernel_size=(3, 3), stride=(1, 1), padding=(1, 1), bias=False)\n",
       "      (bn2): BatchNorm2d(512, eps=1e-05, momentum=0.1, affine=True, track_running_stats=True)\n",
       "    )\n",
       "  )\n",
       "  (avgpool): AdaptiveAvgPool2d(output_size=(1, 1))\n",
       "  (fc): Linear(in_features=512, out_features=1000, bias=True)\n",
       ")"
      ]
     },
     "execution_count": 3,
     "metadata": {},
     "output_type": "execute_result"
    }
   ],
   "source": [
    "# 1. Load pretrained model\n",
    "model_fp32 = resnet18(pretrained=True)\n",
    "model_fp32.eval()"
   ]
  },
  {
   "cell_type": "markdown",
   "metadata": {},
   "source": [
    "### Preprocessing the dataset"
   ]
  },
  {
   "cell_type": "code",
   "execution_count": 4,
   "metadata": {},
   "outputs": [],
   "source": [
    "# 5. Load and preprocess ImageNet-Mini Dataset\n",
    "transform = transforms.Compose([\n",
    "    transforms.Resize(256),\n",
    "    transforms.CenterCrop(224),\n",
    "    transforms.ToTensor(),\n",
    "    transforms.Normalize(mean=[0.485, 0.456, 0.406],\n",
    "                         std=[0.229, 0.224, 0.225])\n",
    "])\n",
    "imagenet_mini_path = '/home/mcw/Downloads/archive/imagenet-mini/val'\n",
    "dataset = torchvision.datasets.ImageFolder(imagenet_mini_path, transform=transform)\n",
    "loader = DataLoader(dataset, batch_size=32, shuffle=False, num_workers=4)"
   ]
  },
  {
   "cell_type": "markdown",
   "metadata": {},
   "source": [
    "### Static Quantization"
   ]
  },
  {
   "cell_type": "code",
   "execution_count": 5,
   "metadata": {},
   "outputs": [
    {
     "name": "stderr",
     "output_type": "stream",
     "text": [
      "W0423 16:59:10.529000 41285 torch/_export/__init__.py:67] +============================+\n",
      "W0423 16:59:10.533000 41285 torch/_export/__init__.py:68] |     !!!   WARNING   !!!    |\n",
      "W0423 16:59:10.536000 41285 torch/_export/__init__.py:69] +============================+\n",
      "W0423 16:59:10.539000 41285 torch/_export/__init__.py:70] capture_pre_autograd_graph() is deprecated and doesn't provide any function guarantee moving forward.\n",
      "W0423 16:59:10.541000 41285 torch/_export/__init__.py:71] Please switch to use torch.export.export_for_training instead.\n"
     ]
    },
    {
     "name": "stdout",
     "output_type": "stream",
     "text": [
      "Calibrating...\n"
     ]
    },
    {
     "name": "stderr",
     "output_type": "stream",
     "text": [
      "/home/mcw/Desktop/Quantization/quant_venv/lib/python3.12/site-packages/torch/fx/graph.py:1199: UserWarning: erase_node(_native_batch_norm_legit_no_training) on an already erased node\n",
      "  warnings.warn(f\"erase_node({to_erase}) on an already erased node\")\n",
      "/home/mcw/Desktop/Quantization/quant_venv/lib/python3.12/site-packages/torch/fx/graph.py:1199: UserWarning: erase_node(_native_batch_norm_legit_no_training_1) on an already erased node\n",
      "  warnings.warn(f\"erase_node({to_erase}) on an already erased node\")\n",
      "/home/mcw/Desktop/Quantization/quant_venv/lib/python3.12/site-packages/torch/fx/graph.py:1199: UserWarning: erase_node(_native_batch_norm_legit_no_training_2) on an already erased node\n",
      "  warnings.warn(f\"erase_node({to_erase}) on an already erased node\")\n",
      "/home/mcw/Desktop/Quantization/quant_venv/lib/python3.12/site-packages/torch/fx/graph.py:1199: UserWarning: erase_node(_native_batch_norm_legit_no_training_3) on an already erased node\n",
      "  warnings.warn(f\"erase_node({to_erase}) on an already erased node\")\n",
      "/home/mcw/Desktop/Quantization/quant_venv/lib/python3.12/site-packages/torch/fx/graph.py:1199: UserWarning: erase_node(_native_batch_norm_legit_no_training_4) on an already erased node\n",
      "  warnings.warn(f\"erase_node({to_erase}) on an already erased node\")\n",
      "/home/mcw/Desktop/Quantization/quant_venv/lib/python3.12/site-packages/torch/fx/graph.py:1199: UserWarning: erase_node(_native_batch_norm_legit_no_training_5) on an already erased node\n",
      "  warnings.warn(f\"erase_node({to_erase}) on an already erased node\")\n",
      "/home/mcw/Desktop/Quantization/quant_venv/lib/python3.12/site-packages/torch/fx/graph.py:1199: UserWarning: erase_node(_native_batch_norm_legit_no_training_6) on an already erased node\n",
      "  warnings.warn(f\"erase_node({to_erase}) on an already erased node\")\n",
      "/home/mcw/Desktop/Quantization/quant_venv/lib/python3.12/site-packages/torch/fx/graph.py:1199: UserWarning: erase_node(_native_batch_norm_legit_no_training_7) on an already erased node\n",
      "  warnings.warn(f\"erase_node({to_erase}) on an already erased node\")\n",
      "/home/mcw/Desktop/Quantization/quant_venv/lib/python3.12/site-packages/torch/fx/graph.py:1199: UserWarning: erase_node(_native_batch_norm_legit_no_training_8) on an already erased node\n",
      "  warnings.warn(f\"erase_node({to_erase}) on an already erased node\")\n",
      "/home/mcw/Desktop/Quantization/quant_venv/lib/python3.12/site-packages/torch/fx/graph.py:1199: UserWarning: erase_node(_native_batch_norm_legit_no_training_9) on an already erased node\n",
      "  warnings.warn(f\"erase_node({to_erase}) on an already erased node\")\n",
      "/home/mcw/Desktop/Quantization/quant_venv/lib/python3.12/site-packages/torch/fx/graph.py:1199: UserWarning: erase_node(_native_batch_norm_legit_no_training_10) on an already erased node\n",
      "  warnings.warn(f\"erase_node({to_erase}) on an already erased node\")\n",
      "/home/mcw/Desktop/Quantization/quant_venv/lib/python3.12/site-packages/torch/fx/graph.py:1199: UserWarning: erase_node(_native_batch_norm_legit_no_training_11) on an already erased node\n",
      "  warnings.warn(f\"erase_node({to_erase}) on an already erased node\")\n",
      "/home/mcw/Desktop/Quantization/quant_venv/lib/python3.12/site-packages/torch/fx/graph.py:1199: UserWarning: erase_node(_native_batch_norm_legit_no_training_12) on an already erased node\n",
      "  warnings.warn(f\"erase_node({to_erase}) on an already erased node\")\n",
      "/home/mcw/Desktop/Quantization/quant_venv/lib/python3.12/site-packages/torch/fx/graph.py:1199: UserWarning: erase_node(_native_batch_norm_legit_no_training_13) on an already erased node\n",
      "  warnings.warn(f\"erase_node({to_erase}) on an already erased node\")\n",
      "/home/mcw/Desktop/Quantization/quant_venv/lib/python3.12/site-packages/torch/fx/graph.py:1199: UserWarning: erase_node(_native_batch_norm_legit_no_training_14) on an already erased node\n",
      "  warnings.warn(f\"erase_node({to_erase}) on an already erased node\")\n",
      "/home/mcw/Desktop/Quantization/quant_venv/lib/python3.12/site-packages/torch/fx/graph.py:1199: UserWarning: erase_node(_native_batch_norm_legit_no_training_15) on an already erased node\n",
      "  warnings.warn(f\"erase_node({to_erase}) on an already erased node\")\n",
      "/home/mcw/Desktop/Quantization/quant_venv/lib/python3.12/site-packages/torch/fx/graph.py:1199: UserWarning: erase_node(_native_batch_norm_legit_no_training_16) on an already erased node\n",
      "  warnings.warn(f\"erase_node({to_erase}) on an already erased node\")\n",
      "/home/mcw/Desktop/Quantization/quant_venv/lib/python3.12/site-packages/torch/fx/graph.py:1199: UserWarning: erase_node(_native_batch_norm_legit_no_training_17) on an already erased node\n",
      "  warnings.warn(f\"erase_node({to_erase}) on an already erased node\")\n",
      "/home/mcw/Desktop/Quantization/quant_venv/lib/python3.12/site-packages/torch/fx/graph.py:1199: UserWarning: erase_node(_native_batch_norm_legit_no_training_18) on an already erased node\n",
      "  warnings.warn(f\"erase_node({to_erase}) on an already erased node\")\n",
      "/home/mcw/Desktop/Quantization/quant_venv/lib/python3.12/site-packages/torch/fx/graph.py:1199: UserWarning: erase_node(_native_batch_norm_legit_no_training_19) on an already erased node\n",
      "  warnings.warn(f\"erase_node({to_erase}) on an already erased node\")\n"
     ]
    }
   ],
   "source": [
    "# 5. Prepare example input\n",
    "example_inputs = (next(iter(loader))[0],)\n",
    "\n",
    "# 6. Capture graph (Pre-Autograd Graph Mode Export)\n",
    "model_exp = capture_pre_autograd_graph(model_fp32, example_inputs)\n",
    "\n",
    "# 7. Apply PT2E Static Quantization\n",
    "quantizer = XNNPACKQuantizer().set_global(get_symmetric_quantization_config())\n",
    "\n",
    "model_prepared = prepare_pt2e(model_exp, quantizer)\n",
    "\n",
    "# 8. Calibration\n",
    "print(\"Calibrating...\")\n",
    "with torch.no_grad():\n",
    "    for images, _ in loader:\n",
    "        model_prepared(images)\n",
    "\n",
    "for name, module in model_prepared.named_modules():\n",
    "    if hasattr(module, 'quantization_annotation'):\n",
    "        print(f\"\\n== {name} ==\")\n",
    "        print(module.quantization_annotation)\n",
    "\n",
    "# 9. Convert to Quantized Model\n",
    "model_int8 = convert_pt2e(model_prepared)"
   ]
  },
  {
   "cell_type": "markdown",
   "metadata": {},
   "source": [
    "### Evaluating Helper functions"
   ]
  },
  {
   "cell_type": "code",
   "execution_count": 6,
   "metadata": {},
   "outputs": [],
   "source": [
    "def evaluate(model, dataloader, is_exported=False):\n",
    "    if is_exported:\n",
    "        move_exported_model_to_eval(model)  # Only needed for PT2E exported models\n",
    "    else:\n",
    "        model.eval()\n",
    "\n",
    "    correct = 0\n",
    "    total = 0\n",
    "    with torch.inference_mode():\n",
    "        for images, labels in dataloader:\n",
    "            outputs = model(images)\n",
    "            preds = outputs.argmax(dim=1)\n",
    "            correct += (preds == labels).sum().item()\n",
    "            total += labels.size(0)\n",
    "    return correct / total\n",
    "\n",
    "\n",
    "\n",
    "def get_model_size(model):\n",
    "    buffer = io.BytesIO()\n",
    "    torch.save(model.state_dict(), buffer)\n",
    "    return buffer.getbuffer().nbytes / 1e6"
   ]
  },
  {
   "cell_type": "markdown",
   "metadata": {},
   "source": [
    "### Evaluation"
   ]
  },
  {
   "cell_type": "code",
   "execution_count": 7,
   "metadata": {},
   "outputs": [
    {
     "name": "stdout",
     "output_type": "stream",
     "text": [
      "FP32 Accuracy: 69.97%\n",
      "INT8 Accuracy (PT2E): 69.33%\n",
      "FP32 Model Size: 46.83 MB\n",
      "INT8 Model Size: 11.71 MB\n"
     ]
    }
   ],
   "source": [
    "# 9. Evaluate both models\n",
    "acc_fp32 = evaluate(model_fp32, loader, is_exported=False) * 100\n",
    "acc_int8 = evaluate(model_int8, loader, is_exported=True) * 100\n",
    "\n",
    "size_fp32 = get_model_size(model_fp32)\n",
    "size_int8 = get_model_size(model_int8)\n",
    "\n",
    "print(f\"FP32 Accuracy: {acc_fp32:.2f}%\")\n",
    "print(f\"INT8 Accuracy (PT2E): {acc_int8:.2f}%\")\n",
    "print(f\"FP32 Model Size: {size_fp32:.2f} MB\")\n",
    "print(f\"INT8 Model Size: {size_int8:.2f} MB\")"
   ]
  },
  {
   "cell_type": "markdown",
   "metadata": {},
   "source": [
    "### Plot Comparison"
   ]
  },
  {
   "cell_type": "code",
   "execution_count": 8,
   "metadata": {},
   "outputs": [
    {
     "data": {
      "image/png": "[encoded data removed]",
      "text/plain": [
       "<Figure size 1000x600 with 1 Axes>"
      ]
     },
     "metadata": {},
     "output_type": "display_data"
    }
   ],
   "source": [
    "# 10. Plot Comparison\n",
    "labels = ['Accuracy (%)', 'Size (MB)']\n",
    "fp32_vals = [acc_fp32, size_fp32]\n",
    "int8_vals = [acc_int8, size_int8]\n",
    "\n",
    "x = range(len(labels))\n",
    "plt.figure(figsize=(10, 6))\n",
    "plt.bar(x, fp32_vals, width=0.4, label='FP32', align='center')\n",
    "plt.bar([p + 0.4 for p in x], int8_vals, width=0.4, label='INT8 (PT2E)', align='center')\n",
    "plt.xticks([p + 0.2 for p in x], labels)\n",
    "plt.ylabel(\"Value\")\n",
    "plt.title(\"FP32 vs PT2E Quantized (INT8) Model Comparison\")\n",
    "plt.legend()\n",
    "plt.grid(axis='y')\n",
    "plt.tight_layout()\n",
    "plt.show()"
   ]
  },
  {
   "cell_type": "code",
   "execution_count": null,
   "metadata": {},
   "outputs": [],
   "source": []
  }
 ],
 "metadata": {
  "kernelspec": {
   "display_name": "quant_venv",
   "language": "python",
   "name": "python3"
  },
  "language_info": {
   "codemirror_mode": {
    "name": "ipython",
    "version": 3
   },
   "file_extension": ".py",
   "mimetype": "text/x-python",
   "name": "python",
   "nbconvert_exporter": "python",
   "pygments_lexer": "ipython3",
   "version": "3.12.3"
  }
 },
 "nbformat": 4,
 "nbformat_minor": 2
}
