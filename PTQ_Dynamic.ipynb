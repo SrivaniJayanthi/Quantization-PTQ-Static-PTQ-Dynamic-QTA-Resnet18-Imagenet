{
 "cells": [
  {
   "cell_type": "markdown",
   "metadata": {},
   "source": [
    "### Import Libraries"
   ]
  },
  {
   "cell_type": "code",
   "execution_count": 18,
   "metadata": {},
   "outputs": [],
   "source": [
    "import torch\n",
    "import torchvision\n",
    "import torchvision.transforms as transforms\n",
    "from torch.utils.data import DataLoader\n",
    "from torchvision.models import resnet18\n",
    "from torch.quantization import quantize_dynamic\n",
    "import time\n",
    "import io\n",
    "import matplotlib.pyplot as plt"
   ]
  },
  {
   "cell_type": "markdown",
   "metadata": {},
   "source": [
    "### Load the Pre-trained model and dataset"
   ]
  },
  {
   "cell_type": "code",
   "execution_count": 19,
   "metadata": {},
   "outputs": [
    {
     "name": "stderr",
     "output_type": "stream",
     "text": [
      "/home/mcw/Desktop/Quantization/quant_venv/lib/python3.12/site-packages/torchvision/models/_utils.py:208: UserWarning: The parameter 'pretrained' is deprecated since 0.13 and may be removed in the future, please use 'weights' instead.\n",
      "  warnings.warn(\n",
      "/home/mcw/Desktop/Quantization/quant_venv/lib/python3.12/site-packages/torchvision/models/_utils.py:223: UserWarning: Arguments other than a weight enum or `None` for 'weights' are deprecated since 0.13 and may be removed in the future. The current behavior is equivalent to passing `weights=ResNet18_Weights.IMAGENET1K_V1`. You can also use `weights=ResNet18_Weights.DEFAULT` to get the most up-to-date weights.\n",
      "  warnings.warn(msg)\n"
     ]
    }
   ],
   "source": [
    "# 1. Load pretrained model\n",
    "model_fp32 = resnet18(pretrained=True)\n",
    "model_fp32.eval()\n",
    "\n",
    "# 2. Load ImageNet-Mini Dataset (subset of ImageNet validation)\n",
    "transform = transforms.Compose([\n",
    "    transforms.Resize(256),\n",
    "    transforms.CenterCrop(224),\n",
    "    transforms.ToTensor(),\n",
    "    transforms.Normalize(mean=[0.485, 0.456, 0.406], \n",
    "                         std=[0.229, 0.224, 0.225])\n",
    "])\n",
    "\n",
    "imagenet_mini_path = '/home/mcw/Downloads/archive/imagenet-mini/val'\n",
    "dataset = torchvision.datasets.ImageFolder(imagenet_mini_path, transform=transform)\n",
    "loader = DataLoader(dataset, batch_size=32, shuffle=False, num_workers=4)\n"
   ]
  },
  {
   "cell_type": "markdown",
   "metadata": {},
   "source": [
    "### Accuracy, Model-size and Latency Helper functions"
   ]
  },
  {
   "cell_type": "code",
   "execution_count": 20,
   "metadata": {},
   "outputs": [],
   "source": [
    "# Evaluation function\n",
    "def evaluate(model, dataloader):\n",
    "    correct = 0\n",
    "    total = 0\n",
    "    with torch.no_grad():\n",
    "        for images, labels in dataloader:\n",
    "            outputs = model(images)\n",
    "            preds = outputs.argmax(dim=1)\n",
    "            correct += (preds == labels).sum().item()\n",
    "            total += labels.size(0)\n",
    "    return correct / total\n",
    "\n",
    "# Model size function\n",
    "def get_model_size(model):\n",
    "    buffer = io.BytesIO()\n",
    "    torch.save(model.state_dict(), buffer)\n",
    "    return buffer.getbuffer().nbytes / 1e6  # in MB"
   ]
  },
  {
   "cell_type": "markdown",
   "metadata": {},
   "source": [
    "### Quantization and Evaluation of the models"
   ]
  },
  {
   "cell_type": "markdown",
   "metadata": {},
   "source": [
    "##### Convolutions need pre-quantized activations for speed, conv layers use spatial kernels sliding across input features. To make them fast with int8, both inputs and weights must be pre-quantized. But DQ quantizes activations on the fly (i.e., dynamically), which is too slow for convolution. So it negates any performance gain."
   ]
  },
  {
   "cell_type": "code",
   "execution_count": 21,
   "metadata": {},
   "outputs": [],
   "source": [
    "# ---- Evaluation before quantization ----\n",
    "acc_fp32 = evaluate(model_fp32, loader) * 100\n",
    "size_fp32 = get_model_size(model_fp32)\n",
    "\n",
    "# ---- Apply dynamic quantization ----\n",
    "model_int8 = quantize_dynamic(model_fp32, {torch.nn.Linear}, dtype=torch.qint8)\n",
    "\n",
    "# ---- Evaluation after quantization ----\n",
    "acc_int8 = evaluate(model_int8, loader) * 100\n",
    "size_int8 = get_model_size(model_int8)\n"
   ]
  },
  {
   "cell_type": "code",
   "execution_count": 22,
   "metadata": {},
   "outputs": [
    {
     "name": "stdout",
     "output_type": "stream",
     "text": [
      "\n",
      "FP32 Accuracy: 69.97%\n",
      "INT8 Accuracy (DQ): 69.82%\n",
      "\n",
      "FP32 Model Size: 46.83 MB\n",
      "INT8 Model Size (DQ): 45.30 MB\n"
     ]
    }
   ],
   "source": [
    "# ---- Print Results ----\n",
    "print(f\"\\nFP32 Accuracy: {acc_fp32:.2f}%\")\n",
    "print(f\"INT8 Accuracy (DQ): {acc_int8:.2f}%\")\n",
    "print(f\"\\nFP32 Model Size: {size_fp32:.2f} MB\")\n",
    "print(f\"INT8 Model Size (DQ): {size_int8:.2f} MB\")"
   ]
  },
  {
   "cell_type": "markdown",
   "metadata": {},
   "source": [
    "### Comparision Results"
   ]
  },
  {
   "cell_type": "code",
   "execution_count": 23,
   "metadata": {},
   "outputs": [
    {
     "data": {
      "image/png": "[encoded data removed]",
      "text/plain": [
       "<Figure size 800x200 with 1 Axes>"
      ]
     },
     "metadata": {},
     "output_type": "display_data"
    }
   ],
   "source": [
    "import pandas as pd\n",
    "import matplotlib.pyplot as plt\n",
    "\n",
    "data = {\n",
    "    'Metric': ['Accuracy (%)', 'Model Size (MB)'],\n",
    "    'FP32': [acc_fp32, size_fp32],\n",
    "    'INT8 (DQ)': [acc_int8, size_int8],\n",
    "    'Difference': [acc_fp32 - acc_int8, size_fp32 - size_int8]\n",
    "}\n",
    "\n",
    "df = pd.DataFrame(data)\n",
    "fig, ax = plt.subplots(figsize=(8, 2))\n",
    "ax.axis('off')\n",
    "table = ax.table(cellText=df.round(4).values, colLabels=df.columns, cellLoc='center', loc='center')\n",
    "table.scale(1, 2)\n",
    "plt.title(\"FP32 vs INT8 (DQ) - Metrics Comparison\", fontsize=12, pad=20)\n",
    "plt.tight_layout()\n",
    "plt.show()\n"
   ]
  }
 ],
 "metadata": {
  "kernelspec": {
   "display_name": "quant_venv",
   "language": "python",
   "name": "python3"
  },
  "language_info": {
   "codemirror_mode": {
    "name": "ipython",
    "version": 3
   },
   "file_extension": ".py",
   "mimetype": "text/x-python",
   "name": "python",
   "nbconvert_exporter": "python",
   "pygments_lexer": "ipython3",
   "version": "3.12.3"
  }
 },
 "nbformat": 4,
 "nbformat_minor": 2
}
